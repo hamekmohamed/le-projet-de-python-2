{
 "cells": [
  {
   "cell_type": "code",
   "execution_count": 1,
   "metadata": {},
   "outputs": [],
   "source": [
    "from math import sqrt"
   ]
  },
  {
   "cell_type": "markdown",
   "metadata": {},
   "source": [
    "np() retourne la liste de tous les nombres premiers présent dans l'interval fourni"
   ]
  },
  {
   "cell_type": "code",
   "execution_count": 2,
   "metadata": {},
   "outputs": [],
   "source": [
    " def np(x,y):\n",
    "    p = []\n",
    "\n",
    "    for i in range( max(x,2) , y):\n",
    "        for j in range(2, int(sqrt(i))+1 ) :\n",
    "            if i%j == 0 :\n",
    "                break\n",
    "        else :\n",
    "            p.append(i)\n",
    "    return set(p)"
   ]
  },
  {
   "cell_type": "markdown",
   "metadata": {},
   "source": [
    "comb() se charge de créer la liste des tout les sous-ensemble possible de l'interval"
   ]
  },
  {
   "cell_type": "code",
   "execution_count": 3,
   "metadata": {},
   "outputs": [],
   "source": [
    "def comb(x) :\n",
    "    cb = [ [] ]\n",
    "    \n",
    "    for i in x :\n",
    "        for sub_set in cb :\n",
    "            cb = cb + [list(sub_set)+[i]]\n",
    "    \n",
    "    return combo[1:]"
   ]
  },
  {
   "cell_type": "code",
   "execution_count": 4,
   "metadata": {},
   "outputs": [],
   "source": [
    "def C(x, y):\n",
    "    if type(x) != int or type(y) != int :\n",
    "        print('Veillez entrer des chiffres de type entier')\n",
    "        return\n",
    "\n",
    "    if x > y or min(x, y) < 0 :\n",
    "        print(\"L'interval donné est non valide\")\n",
    "        return\n",
    "\n",
    "    interval = set( range(x, y+1) )\n",
    "    \n",
    "    # débarrasser les éléments non necessaire\n",
    "    if y > 2*x :\n",
    "        interval = interval - np(x*2, y)\n",
    "\n",
    "    else :\n",
    "        p = np(y-x, x)\n",
    "\n",
    "        for i in p :\n",
    "            if y//i != i :\n",
    "                interval = interval - set( [(y//i)*i] )\n",
    "\n",
    "        interval = interval - np(x+1, y+1)\n",
    "\n",
    "    interval = list(interval)\n",
    "    sous_ensemble = combinaison(interval)\n",
    "\n",
    "    #vérification des sous enembles\n",
    "    total = 0\n",
    "    \n",
    "    for i in sous_ensemble :\n",
    "        produit = 1\n",
    "\n",
    "        for j in i :\n",
    "            produit = produit*j\n",
    "\n",
    "        if sqrt(produit)%1 == 0 :\n",
    "            total = total + 1\n",
    "\n",
    "    print( \"Nombre de carrées parfais  de produit des éléments des sous-ensembles de l'interval\",(x, y) ,\"=\", total )"
   ]
  },
  {
   "cell_type": "code",
   "execution_count": 5,
   "metadata": {},
   "outputs": [
    {
     "name": "stdout",
     "output_type": "stream",
     "text": [
      "Nombre de carrées parfais issus du produit des éléments des sous-ensembles de l'interval (40, 55) = 15\n"
     ]
    }
   ],
   "source": [
    "C(40,55)"
   ]
  }
 ],
 "metadata": {
  "kernelspec": {
   "display_name": "Python 3",
   "language": "python",
   "name": "python3"
  },
  "language_info": {
   "codemirror_mode": {
    "name": "ipython",
    "version": 3
   },
   "file_extension": ".py",
   "mimetype": "text/x-python",
   "name": "python",
   "nbconvert_exporter": "python",
   "pygments_lexer": "ipython3",
   "version": "3.6.4"
  }
 },
 "nbformat": 4,
 "nbformat_minor": 2
}
